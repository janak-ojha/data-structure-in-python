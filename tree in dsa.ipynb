{
 "cells": [
  {
   "cell_type": "code",
   "execution_count": 22,
   "id": "007b3dc7",
   "metadata": {},
   "outputs": [
    {
     "name": "stdout",
     "output_type": "stream",
     "text": [
      "electronics\n",
      "electronics\n",
      "   laptop\n",
      "laptop\n",
      "      mac\n",
      "mac\n",
      "      windows\n",
      "windows\n",
      "      linux\n",
      "linux\n",
      "   telivision\n",
      "telivision\n",
      "      samsung\n",
      "samsung\n",
      "      lg\n",
      "lg\n",
      "      videocon\n",
      "videocon\n",
      "   smartPhone\n",
      "smartPhone\n",
      "      redmi\n",
      "redmi\n",
      "      samsung\n",
      "samsung\n",
      "      ipnone\n",
      "ipnone\n"
     ]
    }
   ],
   "source": [
    "class Treenode:\n",
    "    def __init__(self,data):\n",
    "        self.data=data\n",
    "        self.children=[]\n",
    "        self.parent=None\n",
    "    def add_child(self,child):\n",
    "        child.parent=self\n",
    "        self.children.append(child)\n",
    "    def print_tree(self):\n",
    "        spaces=' ' * self.get_level() *3\n",
    "        print(spaces + self.data)\n",
    "        print(self.data)\n",
    "        if self.children:\n",
    "            \n",
    "            \n",
    "            for child in self.children:\n",
    "                    child.print_tree()\n",
    "    def get_level(self):\n",
    "        level=0\n",
    "        p=self.parent\n",
    "        while p:\n",
    "            level += 1\n",
    "            p =p.parent\n",
    "        return level\n",
    "    \n",
    "            \n",
    "        \n",
    "def build_product_tree():\n",
    "    root=Treenode('electronics')\n",
    "    \n",
    "    laptop=Treenode('laptop')\n",
    "    laptop.add_child(Treenode('mac'))\n",
    "    laptop.add_child(Treenode('windows'))\n",
    "    laptop.add_child(Treenode('linux'))\n",
    "    \n",
    "    tv=Treenode('telivision')\n",
    "    tv.add_child(Treenode('samsung'))\n",
    "    tv.add_child(Treenode('lg'))\n",
    "    tv.add_child(Treenode('videocon'))\n",
    "    \n",
    "    smartphone=Treenode(\"smartPhone\")\n",
    "    smartphone.add_child(Treenode('redmi'))\n",
    "    smartphone.add_child(Treenode('samsung'))\n",
    "    smartphone.add_child(Treenode('ipnone'))\n",
    "    \n",
    "    root.add_child(laptop)\n",
    "    root.add_child(tv)\n",
    "    root.add_child(smartphone)\n",
    "    \n",
    "    return root\n",
    "    \n",
    "        \n",
    "if __name__=='__main__':\n",
    "    root=build_product_tree()\n",
    "    root.print_tree()\n",
    "    pass\n",
    "    "
   ]
  },
  {
   "cell_type": "code",
   "execution_count": 24,
   "id": "88ed01bb",
   "metadata": {},
   "outputs": [],
   "source": [
    "#intro to binary tree\n",
    "class Node:\n",
    "    def __init__(self,key):\n",
    "        self.left=None\n",
    "        self.right=None\n",
    "        self.val=key\n",
    "root=Node(1)\n",
    "root.left=Node(2);\n",
    "root.left=Node(3);\n",
    "\n",
    "root.left.left = Node(4);\n"
   ]
  },
  {
   "cell_type": "code",
   "execution_count": null,
   "id": "bb52ba4e",
   "metadata": {},
   "outputs": [],
   "source": [
    "#traversal of tree\n",
    "class Node:\n",
    "    def __init__(self,key):\n",
    "        self.left=None\n",
    "        self.right=None\n",
    "        self.val=key\n",
    "def printinorder(root):\n",
    "    if root:\n",
    "        printinorder(root.left)\n",
    "        print(root.val)\n",
    "        printinorder(root.right)\n",
    "def printpostorder(root):\n",
    "    if root:\n",
    "        printpostorder(root.left)\n",
    "        printpostorder(root.right)\n",
    "        print(root.val)\n",
    "def printpreorder(root):\n",
    "    if root:\n",
    "        print(root.val)\n",
    "        printpreorder(root.left)\n",
    "        printpreorder(root.right\n",
    "                      \n",
    "root = Node(1)\n",
    "root.left=Node(2)\n",
    "root.right=Node(3)\n",
    "root.left.left=Node(4)\n",
    "                      \n",
    "                      "
   ]
  },
  {
   "cell_type": "code",
   "execution_count": null,
   "id": "a6457cd5",
   "metadata": {},
   "outputs": [],
   "source": []
  },
  {
   "cell_type": "code",
   "execution_count": null,
   "id": "3af27939",
   "metadata": {},
   "outputs": [],
   "source": []
  },
  {
   "cell_type": "code",
   "execution_count": null,
   "id": "91889baa",
   "metadata": {},
   "outputs": [],
   "source": []
  },
  {
   "cell_type": "code",
   "execution_count": null,
   "id": "7dc39905",
   "metadata": {},
   "outputs": [],
   "source": []
  },
  {
   "cell_type": "code",
   "execution_count": null,
   "id": "50f6d26c",
   "metadata": {},
   "outputs": [],
   "source": []
  },
  {
   "cell_type": "code",
   "execution_count": null,
   "id": "40ae69bd",
   "metadata": {},
   "outputs": [],
   "source": []
  },
  {
   "cell_type": "code",
   "execution_count": null,
   "id": "53eea39c",
   "metadata": {},
   "outputs": [],
   "source": []
  },
  {
   "cell_type": "code",
   "execution_count": null,
   "id": "b650f71c",
   "metadata": {},
   "outputs": [],
   "source": []
  },
  {
   "cell_type": "code",
   "execution_count": null,
   "id": "1297bb4b",
   "metadata": {},
   "outputs": [],
   "source": []
  },
  {
   "cell_type": "code",
   "execution_count": null,
   "id": "123b022e",
   "metadata": {},
   "outputs": [],
   "source": []
  },
  {
   "cell_type": "code",
   "execution_count": null,
   "id": "174149ff",
   "metadata": {},
   "outputs": [],
   "source": []
  },
  {
   "cell_type": "code",
   "execution_count": null,
   "id": "1cb0251a",
   "metadata": {},
   "outputs": [],
   "source": []
  },
  {
   "cell_type": "code",
   "execution_count": null,
   "id": "e4fb5578",
   "metadata": {},
   "outputs": [],
   "source": []
  },
  {
   "cell_type": "code",
   "execution_count": null,
   "id": "b540d831",
   "metadata": {},
   "outputs": [],
   "source": []
  },
  {
   "cell_type": "code",
   "execution_count": null,
   "id": "b13739c7",
   "metadata": {},
   "outputs": [],
   "source": []
  }
 ],
 "metadata": {
  "kernelspec": {
   "display_name": "Python 3 (ipykernel)",
   "language": "python",
   "name": "python3"
  },
  "language_info": {
   "codemirror_mode": {
    "name": "ipython",
    "version": 3
   },
   "file_extension": ".py",
   "mimetype": "text/x-python",
   "name": "python",
   "nbconvert_exporter": "python",
   "pygments_lexer": "ipython3",
   "version": "3.10.9"
  }
 },
 "nbformat": 4,
 "nbformat_minor": 5
}
