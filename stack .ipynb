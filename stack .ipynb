{
 "cells": [
  {
   "cell_type": "code",
   "execution_count": 13,
   "id": "adc31662",
   "metadata": {},
   "outputs": [
    {
     "name": "stdout",
     "output_type": "stream",
     "text": [
      "initial_stack\n",
      "['j', 'a', 'n', 'a', 'k']\n"
     ]
    }
   ],
   "source": [
    "stack = []\n",
    "\n",
    "#Append function to push element in stack\n",
    "stack.append('j')\n",
    "stack.append('a')\n",
    "stack.append('n')\n",
    "stack.append('a')\n",
    "stack.append('k')\n",
    "print('initial_stack')\n",
    "print(stack)"
   ]
  },
  {
   "cell_type": "code",
   "execution_count": 14,
   "id": "ba275819",
   "metadata": {},
   "outputs": [
    {
     "name": "stdout",
     "output_type": "stream",
     "text": [
      "\n",
      " Elements from the stack:\n",
      "k\n",
      "a\n",
      "n\n",
      "a\n",
      "j\n"
     ]
    }
   ],
   "source": [
    "#pop elaemnt feom stack\n",
    "print('\\n Elements from the stack:')\n",
    "print(stack.pop())\n",
    "print(stack.pop())\n",
    "print(stack.pop())\n",
    "print(stack.pop())\n",
    "print(stack.pop())"
   ]
  },
  {
   "cell_type": "code",
   "execution_count": 16,
   "id": "cb48510f",
   "metadata": {},
   "outputs": [
    {
     "name": "stdout",
     "output_type": "stream",
     "text": [
      "initial_stack:\n",
      "deque(['j', 'a', 'n', 'a', 'k'])\n",
      "\n",
      " element poped from stack\n",
      "k\n",
      "a\n",
      "n\n",
      "a\n",
      "j\n"
     ]
    }
   ],
   "source": [
    "from collections import deque\n",
    "stack=deque()\n",
    "stack.append('j')\n",
    "stack.append('a')\n",
    "stack.append('n')\n",
    "stack.append('a')\n",
    "stack.append('k')\n",
    "print('initial_stack:')\n",
    "print(stack)\n",
    "\n",
    "\n",
    "print('\\n element poped from stack')\n",
    "print(stack.pop())\n",
    "print(stack.pop())\n",
    "print(stack.pop())\n",
    "print(stack.pop())\n",
    "print(stack.pop())"
   ]
  },
  {
   "cell_type": "code",
   "execution_count": 18,
   "id": "86785f7a",
   "metadata": {},
   "outputs": [
    {
     "name": "stdout",
     "output_type": "stream",
     "text": [
      "0\n",
      "full True\n",
      "size 5\n",
      "\n",
      "element poped from the stack\n",
      "k\n",
      "a\n",
      "n\n",
      "a\n",
      "j\n"
     ]
    }
   ],
   "source": [
    "#implemented using queue\n",
    "from queue import LifoQueue\n",
    "\n",
    "stack=LifoQueue(maxsize=5)\n",
    "print(stack.qsize())\n",
    "\n",
    "\n",
    "stack.put('j')\n",
    "stack.put('a')\n",
    "stack.put('n')\n",
    "stack.put('a')\n",
    "stack.put('k')\n",
    "\n",
    "print('full',stack.full())\n",
    "print('size',stack.qsize())\n",
    "\n",
    "print('\\nelement poped from the stack')\n",
    "print(stack.get())\n",
    "print(stack.get())\n",
    "print(stack.get())\n",
    "print(stack.get())\n",
    "print(stack.get())"
   ]
  },
  {
   "cell_type": "code",
   "execution_count": null,
   "id": "75d8a9c3",
   "metadata": {},
   "outputs": [],
   "source": []
  },
  {
   "cell_type": "code",
   "execution_count": null,
   "id": "ece8dd28",
   "metadata": {},
   "outputs": [],
   "source": []
  }
 ],
 "metadata": {
  "kernelspec": {
   "display_name": "Python 3 (ipykernel)",
   "language": "python",
   "name": "python3"
  },
  "language_info": {
   "codemirror_mode": {
    "name": "ipython",
    "version": 3
   },
   "file_extension": ".py",
   "mimetype": "text/x-python",
   "name": "python",
   "nbconvert_exporter": "python",
   "pygments_lexer": "ipython3",
   "version": "3.10.9"
  }
 },
 "nbformat": 4,
 "nbformat_minor": 5
}
