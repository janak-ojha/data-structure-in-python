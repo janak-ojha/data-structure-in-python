{
 "cells": [
  {
   "cell_type": "code",
   "execution_count": 1,
   "id": "89975b57",
   "metadata": {},
   "outputs": [
    {
     "name": "stdout",
     "output_type": "stream",
     "text": [
      "initial_queue\n",
      "['j', 'a', 'n', 'a', 'k']\n",
      "\n",
      " element dqueued from que\n",
      "j\n",
      "a\n",
      "n\n",
      "a\n",
      "k\n",
      "\n",
      " queue after the removing element\n",
      "[]\n"
     ]
    }
   ],
   "source": [
    "#queue implementation using the list\n",
    "queue=[]\n",
    "queue.append('j')\n",
    "queue.append('a')\n",
    "queue.append('n')\n",
    "queue.append('a')\n",
    "queue.append('k')\n",
    "print('initial_queue')\n",
    "print(queue)\n",
    "\n",
    "print('\\n element dqueued from que')\n",
    "print(queue.pop(0))\n",
    "print(queue.pop(0))\n",
    "print(queue.pop(0))\n",
    "print(queue.pop(0))\n",
    "print(queue.pop(0))\n",
    "\n",
    "print('\\n queue after the removing element')\n",
    "print(queue)"
   ]
  },
  {
   "cell_type": "code",
   "execution_count": 2,
   "id": "f184881d",
   "metadata": {},
   "outputs": [
    {
     "name": "stdout",
     "output_type": "stream",
     "text": [
      "iniqial_queue\n",
      "deque(['j', 'a', 'n'])\n",
      "\n",
      " Element dqueued from the queue\n",
      "j\n",
      "a\n",
      "n\n"
     ]
    }
   ],
   "source": [
    "#implementation of queue using the deque\n",
    "from collections import deque\n",
    "q=deque()\n",
    "q.append('j')\n",
    "q.append('a')\n",
    "q.append('n')\n",
    "\n",
    "print('iniqial_queue')\n",
    "print(q)\n",
    "\n",
    "print('\\n Element dqueued from the queue')\n",
    "print(q.popleft())\n",
    "print(q.popleft())\n",
    "print(q.popleft())\n",
    "\n",
    "\n"
   ]
  },
  {
   "cell_type": "code",
   "execution_count": 3,
   "id": "5f749493",
   "metadata": {},
   "outputs": [
    {
     "name": "stdout",
     "output_type": "stream",
     "text": [
      "0\n",
      "\n",
      " queue is full True\n",
      "\n",
      " element deququed from queue\n",
      "j\n",
      "a\n",
      "n\n",
      "\n",
      " empty True\n"
     ]
    }
   ],
   "source": [
    "#ququeu implementation usign queue..queue \n",
    "from queue import Queue\n",
    "q=Queue(maxsize=3)\n",
    "print(q.qsize())\n",
    "\n",
    "q.put('j')\n",
    "q.put('a')\n",
    "q.put('n')\n",
    "\n",
    "print('\\n queue is full',q.full())\n",
    "\n",
    "print('\\n element deququed from queue')\n",
    "print(q.get())\n",
    "print(q.get())\n",
    "print(q.get())\n",
    "\n",
    "print('\\n empty',q.empty())\n",
    "\n"
   ]
  },
  {
   "cell_type": "code",
   "execution_count": 4,
   "id": "34278811",
   "metadata": {},
   "outputs": [
    {
     "ename": "SyntaxError",
     "evalue": "expected ':' (955261296.py, line 18)",
     "output_type": "error",
     "traceback": [
      "\u001b[1;36m  Cell \u001b[1;32mIn[4], line 18\u001b[1;36m\u001b[0m\n\u001b[1;33m    if self.queue[i]\u001b[0m\n\u001b[1;37m                    ^\u001b[0m\n\u001b[1;31mSyntaxError\u001b[0m\u001b[1;31m:\u001b[0m expected ':'\n"
     ]
    }
   ],
   "source": [
    "#implementation of priority queue\n",
    "class Priority_queue(object):\n",
    "    def __init__(self):\n",
    "        self.queue=[]\n",
    "    def __str__(self):\n",
    "        return ' '.join([str[i]] for i in self.queue)\n",
    "    #checking id]f the queue is empty or not\n",
    "    def isempty(self):\n",
    "        return len(self.queue) == 0\n",
    "    def insert(self):\n",
    "        self.queue.append(data)\n",
    "    \n",
    "    \n",
    "    def delete(self):\n",
    "        try:\n",
    "            max=0\n",
    "            for i in range(len(self.queue)):\n",
    "                if self.queue[i]\n",
    "    "
   ]
  },
  {
   "cell_type": "code",
   "execution_count": null,
   "id": "31b3704c",
   "metadata": {},
   "outputs": [],
   "source": [
    "#prioeity queue\n",
    "class Priorityque(object):\n",
    "    def __init__(self):\n",
    "        self.queue=[]\n",
    "    def __str__(self):\n",
    "        return ' '.join([str(i) for i in self.queue])\n",
    "    def isempty(self):\n",
    "        return len(self.queue) == 0\n",
    "    def insert(self,data):\n",
    "        self.queue.append(data)\n",
    "    def delete(self):\n",
    "        "
   ]
  },
  {
   "cell_type": "code",
   "execution_count": null,
   "id": "12d60fb3",
   "metadata": {},
   "outputs": [],
   "source": [
    "price_queue=[]\n",
    "price_queue.insert(0,121)\n",
    "price_queue.insert(0,122)\n",
    "price_queue.insert(0,123)\n",
    "price_queue.insert(0,124)\n",
    "price_queue\n",
    "\n",
    "\n"
   ]
  },
  {
   "cell_type": "code",
   "execution_count": null,
   "id": "1a1b751c",
   "metadata": {},
   "outputs": [],
   "source": [
    "price_queue.pop()\n",
    "price_queue.pop()\n",
    "price_queue.pop()\n",
    "price_queue.pop()"
   ]
  },
  {
   "cell_type": "code",
   "execution_count": null,
   "id": "664c4efe",
   "metadata": {},
   "outputs": [],
   "source": [
    "c\n",
    "price_queue.pop()\n",
    "price_queue.pop()\n"
   ]
  },
  {
   "cell_type": "code",
   "execution_count": null,
   "id": "a0248bec",
   "metadata": {},
   "outputs": [],
   "source": [
    "from collections import deque\n",
    "x=deque()\n",
    "x.appendleft(1)\n",
    "x.appendleft(2)\n",
    "x.appendleft(3)\n",
    "x.appendleft(4)\n",
    "x.appendleft(5)\n",
    "x"
   ]
  },
  {
   "cell_type": "code",
   "execution_count": null,
   "id": "f231bdde",
   "metadata": {},
   "outputs": [],
   "source": [
    "x.pop()"
   ]
  },
  {
   "cell_type": "code",
   "execution_count": null,
   "id": "9cf9e073",
   "metadata": {},
   "outputs": [],
   "source": [
    "x.pop()"
   ]
  },
  {
   "cell_type": "code",
   "execution_count": null,
   "id": "2e7f874d",
   "metadata": {},
   "outputs": [],
   "source": [
    "from collections import deque\n",
    "\n",
    "class Queue:\n",
    "    def __init__(self):\n",
    "        self.buffer = deque()\n",
    "    def enqueue(self,val):\n",
    "        self.buffer.appendleft(val)\n",
    "    def dequeue(self):\n",
    "        self.buffer.pop()\n",
    "    def is_empty(self):\n",
    "        return len(self.buffer)==0\n",
    "    def size(self):\n",
    "        return len(self.buffer)\n",
    "        "
   ]
  },
  {
   "cell_type": "code",
   "execution_count": null,
   "id": "bf08af58",
   "metadata": {},
   "outputs": [],
   "source": [
    "pd=Queue()\n",
    "\n",
    "pd.enqueue({\n",
    "    'company':'wal mart',\n",
    "    'timestamp':'15 jn 11',\n",
    "    'price':120\n",
    "})\n",
    "pd.enqueue({\n",
    "    'company':'wal mart',\n",
    "    'timestamp':'15 jun 12',\n",
    "    'price':122\n",
    "})\n",
    "pd.enqueue({\n",
    "    'company':'val_mart',\n",
    "    'timestamp':'15 jun 1',\n",
    "    'price':123\n",
    "})\n"
   ]
  },
  {
   "cell_type": "code",
   "execution_count": null,
   "id": "0919b1ee",
   "metadata": {},
   "outputs": [],
   "source": [
    "pd.buffer"
   ]
  },
  {
   "cell_type": "code",
   "execution_count": null,
   "id": "b011f8f2",
   "metadata": {
    "scrolled": true
   },
   "outputs": [],
   "source": [
    "pd.dequeue()"
   ]
  },
  {
   "cell_type": "code",
   "execution_count": 14,
   "id": "f05fe0c8",
   "metadata": {},
   "outputs": [
    {
     "ename": "AttributeError",
     "evalue": "'PriorityQueue' object has no attribute 'queue'",
     "output_type": "error",
     "traceback": [
      "\u001b[1;31m---------------------------------------------------------------------------\u001b[0m",
      "\u001b[1;31mAttributeError\u001b[0m                            Traceback (most recent call last)",
      "Cell \u001b[1;32mIn[14], line 28\u001b[0m\n\u001b[0;32m     25\u001b[0m             exit()\n\u001b[0;32m     26\u001b[0m \u001b[38;5;28;01mif\u001b[39;00m \u001b[38;5;18m__name__\u001b[39m\u001b[38;5;241m==\u001b[39m\u001b[38;5;124m'\u001b[39m\u001b[38;5;124m__main__\u001b[39m\u001b[38;5;124m'\u001b[39m:\n\u001b[1;32m---> 28\u001b[0m     myQueue\u001b[38;5;241m=\u001b[39m\u001b[43mPriorityQueue\u001b[49m\u001b[43m(\u001b[49m\u001b[43m)\u001b[49m\n\u001b[0;32m     30\u001b[0m     myQueue\u001b[38;5;241m.\u001b[39minsert(\u001b[38;5;241m1\u001b[39m)\n\u001b[0;32m     31\u001b[0m     myQueue\u001b[38;5;241m.\u001b[39minsert(\u001b[38;5;241m2\u001b[39m)\n",
      "Cell \u001b[1;32mIn[14], line 8\u001b[0m, in \u001b[0;36mPriorityQueue.__init__\u001b[1;34m(self)\u001b[0m\n\u001b[0;32m      7\u001b[0m \u001b[38;5;28;01mdef\u001b[39;00m \u001b[38;5;21m__init__\u001b[39m(\u001b[38;5;28mself\u001b[39m):\n\u001b[1;32m----> 8\u001b[0m     \u001b[38;5;28;01mreturn\u001b[39;00m \u001b[38;5;124m'\u001b[39m\u001b[38;5;124m \u001b[39m\u001b[38;5;124m'\u001b[39m\u001b[38;5;241m.\u001b[39mjoin([\u001b[38;5;28mstr\u001b[39m(i) \u001b[38;5;28;01mfor\u001b[39;00m i \u001b[38;5;129;01min\u001b[39;00m \u001b[38;5;28;43mself\u001b[39;49m\u001b[38;5;241;43m.\u001b[39;49m\u001b[43mqueue\u001b[49m])\n",
      "\u001b[1;31mAttributeError\u001b[0m: 'PriorityQueue' object has no attribute 'queue'"
     ]
    }
   ],
   "source": [
    "#implementation of priority queue\n",
    "class PriorityQueue(object):\n",
    "    \n",
    "    \n",
    "    def __init__(self):\n",
    "        self.queue = []\n",
    "    def __init__(self):\n",
    "        return ' '.join([str(i) for i in self.queue])\n",
    "        \n",
    "    def is_empty(self):\n",
    "        return len(self.queue)==0\n",
    "    def insert(self,data):\n",
    "        self.queue.append(data)\n",
    "    def delete(self):\n",
    "        try:\n",
    "            max=0\n",
    "            for i in range(len(self.queue)):\n",
    "                if self.queue[i]>self.queue[max]:\n",
    "                    max = i\n",
    "            item=self.queue(max)\n",
    "            del self.queue[max]\n",
    "            return item\n",
    "        except IndexError:\n",
    "            print()\n",
    "            exit()\n",
    "if __name__=='__main__':\n",
    "    \n",
    "    myQueue=PriorityQueue()\n",
    "                \n",
    "    myQueue.insert(1)\n",
    "    myQueue.insert(2)\n",
    "    myQueue.insert(3)\n",
    "    myQueue.insert(4)\n",
    "    print(myQueue)\n",
    "    while not myQueue.is_empty():\n",
    "        print(myQueue.delete())"
   ]
  },
  {
   "cell_type": "code",
   "execution_count": 15,
   "id": "cd9d6c58",
   "metadata": {},
   "outputs": [
    {
     "name": "stdout",
     "output_type": "stream",
     "text": [
      "12 1 14 7\n",
      "14\n",
      "12\n",
      "7\n",
      "1\n"
     ]
    }
   ],
   "source": [
    "\n",
    "# A simple implementation of Priority Queue\n",
    "# using Queue.\n",
    "class PriorityQueue(object):\n",
    "    def __init__(self):\n",
    "        self.queue = []\n",
    " \n",
    "    def __str__(self):\n",
    "        return ' '.join([str(i) for i in self.queue])\n",
    " \n",
    "    # for checking if the queue is empty\n",
    "    def isEmpty(self):\n",
    "        return len(self.queue) == 0\n",
    " \n",
    "    # for inserting an element in the queue\n",
    "    def insert(self, data):\n",
    "        self.queue.append(data)\n",
    " \n",
    "    # for popping an element based on Priority\n",
    "    def delete(self):\n",
    "        try:\n",
    "            max = 0\n",
    "            for i in range(len(self.queue)):\n",
    "                if self.queue[i] > self.queue[max]:\n",
    "                    max = i\n",
    "            item = self.queue[max]\n",
    "            del self.queue[max]\n",
    "            return item\n",
    "        except IndexError:\n",
    "            print()\n",
    "            exit()\n",
    " \n",
    "if __name__ == '__main__':\n",
    "    myQueue = PriorityQueue()\n",
    "    myQueue.insert(12)\n",
    "    myQueue.insert(1)\n",
    "    myQueue.insert(14)\n",
    "    myQueue.insert(7)\n",
    "    print(myQueue)           \n",
    "    while not myQueue.isEmpty():\n",
    "        print(myQueue.delete())"
   ]
  },
  {
   "cell_type": "code",
   "execution_count": null,
   "id": "adbe40c3",
   "metadata": {},
   "outputs": [],
   "source": []
  },
  {
   "cell_type": "code",
   "execution_count": null,
   "id": "fa62ae24",
   "metadata": {},
   "outputs": [],
   "source": []
  },
  {
   "cell_type": "code",
   "execution_count": null,
   "id": "9a250395",
   "metadata": {},
   "outputs": [],
   "source": []
  },
  {
   "cell_type": "code",
   "execution_count": null,
   "id": "25436281",
   "metadata": {},
   "outputs": [],
   "source": []
  },
  {
   "cell_type": "code",
   "execution_count": null,
   "id": "c6314044",
   "metadata": {},
   "outputs": [],
   "source": []
  },
  {
   "cell_type": "code",
   "execution_count": null,
   "id": "9c2a8b17",
   "metadata": {},
   "outputs": [],
   "source": []
  }
 ],
 "metadata": {
  "kernelspec": {
   "display_name": "Python 3 (ipykernel)",
   "language": "python",
   "name": "python3"
  },
  "language_info": {
   "codemirror_mode": {
    "name": "ipython",
    "version": 3
   },
   "file_extension": ".py",
   "mimetype": "text/x-python",
   "name": "python",
   "nbconvert_exporter": "python",
   "pygments_lexer": "ipython3",
   "version": "3.10.9"
  }
 },
 "nbformat": 4,
 "nbformat_minor": 5
}
