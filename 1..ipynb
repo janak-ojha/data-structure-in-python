{
 "cells": [
  {
   "cell_type": "code",
   "execution_count": 5,
   "id": "43c3c7fc",
   "metadata": {},
   "outputs": [],
   "source": [
    "def get_square_of_number(num):\n",
    "    squared_number=[]\n",
    "    for n in num:\n",
    "        squared_number.append(n*n)\n",
    "    return squared_number    "
   ]
  },
  {
   "cell_type": "code",
   "execution_count": 6,
   "id": "4aa99206",
   "metadata": {},
   "outputs": [
    {
     "data": {
      "text/plain": [
       "[1, 4, 9, 16, 25, 36]"
      ]
     },
     "execution_count": 6,
     "metadata": {},
     "output_type": "execute_result"
    }
   ],
   "source": [
    "n=[1,2,3,4,5,6]\n",
    "get_square_of_number(n)"
   ]
  },
  {
   "cell_type": "code",
   "execution_count": 12,
   "id": "76cb6583",
   "metadata": {},
   "outputs": [],
   "source": [
    "def even(num):\n",
    "    even_num=[]\n",
    "    for n in num:\n",
    "        if n%2==0:\n",
    "            even_num.append(n)\n",
    "    return even_num       "
   ]
  },
  {
   "cell_type": "code",
   "execution_count": 13,
   "id": "d32eff8d",
   "metadata": {},
   "outputs": [
    {
     "data": {
      "text/plain": [
       "[2, 4]"
      ]
     },
     "execution_count": 13,
     "metadata": {},
     "output_type": "execute_result"
    }
   ],
   "source": [
    "n=[1,2,3,4,5]\n",
    "even(n)"
   ]
  },
  {
   "cell_type": "code",
   "execution_count": 18,
   "id": "8ab8b7b8",
   "metadata": {},
   "outputs": [],
   "source": [
    "def odd(num):\n",
    "    odd_num=[]\n",
    "    for i in  num:\n",
    "        if i%2==1:\n",
    "            odd_num.append(i)\n",
    "    return odd_num       "
   ]
  },
  {
   "cell_type": "code",
   "execution_count": 21,
   "id": "9fc62aca",
   "metadata": {},
   "outputs": [
    {
     "data": {
      "text/plain": [
       "[]"
      ]
     },
     "execution_count": 21,
     "metadata": {},
     "output_type": "execute_result"
    }
   ],
   "source": [
    "n=[]\n",
    "odd(n)\n"
   ]
  },
  {
   "cell_type": "code",
   "execution_count": 26,
   "id": "1e973695",
   "metadata": {},
   "outputs": [
    {
     "name": "stdout",
     "output_type": "stream",
     "text": [
      "odd 1\n",
      "odd_num is 2\n",
      "odd 3\n",
      "odd_num is 4\n",
      "odd 5\n",
      "odd_num is 6\n",
      "odd 7\n",
      "odd_num is 8\n",
      "odd 9\n"
     ]
    }
   ],
   "source": [
    "for i in range(1, 10):\n",
    "    if i%2==0:\n",
    "        print(\"odd_num is\",i)\n",
    "    else:\n",
    "        print(\"odd\",i)"
   ]
  },
  {
   "cell_type": "code",
   "execution_count": 27,
   "id": "b7ddc0c8",
   "metadata": {},
   "outputs": [
    {
     "name": "stdout",
     "output_type": "stream",
     "text": [
      "1\n",
      "4\n",
      "9\n",
      "16\n",
      "25\n",
      "36\n",
      "49\n",
      "64\n",
      "81\n",
      "100\n",
      "121\n",
      "144\n",
      "169\n",
      "196\n",
      "225\n",
      "256\n",
      "289\n",
      "324\n",
      "361\n",
      "400\n",
      "441\n",
      "484\n",
      "529\n",
      "576\n",
      "625\n",
      "676\n",
      "729\n",
      "784\n",
      "841\n",
      "900\n",
      "961\n",
      "1024\n",
      "1089\n",
      "1156\n",
      "1225\n",
      "1296\n",
      "1369\n",
      "1444\n",
      "1521\n",
      "1600\n",
      "1681\n",
      "1764\n",
      "1849\n",
      "1936\n",
      "2025\n",
      "2116\n",
      "2209\n",
      "2304\n",
      "2401\n",
      "2500\n",
      "2601\n",
      "2704\n",
      "2809\n",
      "2916\n",
      "3025\n",
      "3136\n",
      "3249\n",
      "3364\n",
      "3481\n",
      "3600\n",
      "3721\n",
      "3844\n",
      "3969\n",
      "4096\n",
      "4225\n",
      "4356\n",
      "4489\n",
      "4624\n",
      "4761\n",
      "4900\n",
      "5041\n",
      "5184\n",
      "5329\n",
      "5476\n",
      "5625\n",
      "5776\n",
      "5929\n",
      "6084\n",
      "6241\n",
      "6400\n",
      "6561\n",
      "6724\n",
      "6889\n",
      "7056\n",
      "7225\n",
      "7396\n",
      "7569\n",
      "7744\n",
      "7921\n",
      "8100\n",
      "8281\n",
      "8464\n",
      "8649\n",
      "8836\n",
      "9025\n",
      "9216\n",
      "9409\n",
      "9604\n",
      "9801\n"
     ]
    }
   ],
   "source": [
    "for i in range(1, 100):\n",
    "    print(i*i)"
   ]
  },
  {
   "cell_type": "code",
   "execution_count": 41,
   "id": "8d7f832a",
   "metadata": {},
   "outputs": [],
   "source": [
    "def multiple(n):\n",
    "    table=[]\n",
    "    for i in range(1,10):\n",
    "        j=n*i\n",
    "        table.append(j)\n",
    "        i=i+1\n",
    "    return table"
   ]
  },
  {
   "cell_type": "code",
   "execution_count": 45,
   "id": "473fd70a",
   "metadata": {},
   "outputs": [
    {
     "data": {
      "text/plain": [
       "[6, 12, 18, 24, 30, 36, 42, 48, 54]"
      ]
     },
     "execution_count": 45,
     "metadata": {},
     "output_type": "execute_result"
    }
   ],
   "source": [
    "multiple(6)"
   ]
  },
  {
   "cell_type": "code",
   "execution_count": 46,
   "id": "6a3d64dd",
   "metadata": {},
   "outputs": [
    {
     "name": "stdout",
     "output_type": "stream",
     "text": [
      "2 x 1 = 2\n",
      "2 x 2 = 4\n",
      "2 x 3 = 6\n",
      "2 x 4 = 8\n",
      "2 x 5 = 10\n",
      "2 x 6 = 12\n",
      "2 x 7 = 14\n",
      "2 x 8 = 16\n",
      "2 x 9 = 18\n",
      "2 x 10 = 20\n"
     ]
    }
   ],
   "source": [
    "def print_multiplication_table(number, limit):\n",
    "    for i in range(1, limit + 1):\n",
    "        result = number * i\n",
    "        print(f\"{number} x {i} = {result}\")\n",
    "\n",
    "# Printing multiplication tables\n",
    "number = 2\n",
    "limit = 10  # You can adjust the limit as needed\n",
    "print_multiplication_table(number, limit)\n"
   ]
  },
  {
   "cell_type": "code",
   "execution_count": 61,
   "id": "9ef3b050",
   "metadata": {},
   "outputs": [
    {
     "name": "stdout",
     "output_type": "stream",
     "text": [
      "2 x 1 = 2\n",
      "2 x 2 = 4\n",
      "2 x 3 = 6\n",
      "2 x 4 = 8\n",
      "2 x 5 = 10\n",
      "2 x 6 = 12\n",
      "2 x 7 = 14\n",
      "2 x 8 = 16\n",
      "2 x 9 = 18\n",
      "2 x 10 = 20\n"
     ]
    }
   ],
   "source": [
    "def multiplication_table(num,limit):\n",
    "    for i in range(1,limit+1):\n",
    "        result=number*i\n",
    "        print(f\"{number} x {i} = {result}\")\n",
    "\n",
    "multiplication_table(2,10)          "
   ]
  },
  {
   "cell_type": "code",
   "execution_count": 63,
   "id": "7b3507ca",
   "metadata": {},
   "outputs": [
    {
     "name": "stdout",
     "output_type": "stream",
     "text": [
      "2 x 1 = 2\n",
      "2 x 2 = 4\n",
      "2 x 3 = 6\n",
      "2 x 4 = 8\n",
      "2 x 5 = 10\n",
      "2 x 6 = 12\n",
      "2 x 7 = 14\n",
      "2 x 8 = 16\n",
      "2 x 9 = 18\n",
      "2 x 10 = 20\n"
     ]
    }
   ],
   "source": [
    "def multiplication_table(num,limit):\n",
    "    for i in range(1,limit+1):\n",
    "        result=number*i\n",
    "        print(f\"{number} x {i} = {result}\")\n",
    "\n",
    "multiplication_table(2,10)         "
   ]
  },
  {
   "cell_type": "code",
   "execution_count": 54,
   "id": "99f346ef",
   "metadata": {},
   "outputs": [
    {
     "name": "stdout",
     "output_type": "stream",
     "text": [
      "2 x 1 = 2\n",
      "2 x 2 = 4\n",
      "2 x 3 = 6\n",
      "2 x 4 = 8\n",
      "2 x 5 = 10\n",
      "2 x 6 = 12\n",
      "2 x 7 = 14\n",
      "2 x 8 = 16\n",
      "2 x 9 = 18\n",
      "2 x 10 = 20\n"
     ]
    }
   ],
   "source": [
    "def multiplication_table(number, limit):\n",
    "    for i in range(1, limit + 1):\n",
    "        result = number * i\n",
    "        print(f\"{number} x {i} = {result}\")\n",
    "\n",
    "multiplication_table(2, 10)\n"
   ]
  },
  {
   "cell_type": "code",
   "execution_count": null,
   "id": "4311184c",
   "metadata": {},
   "outputs": [],
   "source": []
  },
  {
   "cell_type": "code",
   "execution_count": null,
   "id": "8d1e17ae",
   "metadata": {},
   "outputs": [],
   "source": []
  },
  {
   "cell_type": "code",
   "execution_count": null,
   "id": "9af1f693",
   "metadata": {},
   "outputs": [],
   "source": []
  },
  {
   "cell_type": "code",
   "execution_count": null,
   "id": "d66938d6",
   "metadata": {},
   "outputs": [],
   "source": []
  }
 ],
 "metadata": {
  "kernelspec": {
   "display_name": "Python 3 (ipykernel)",
   "language": "python",
   "name": "python3"
  },
  "language_info": {
   "codemirror_mode": {
    "name": "ipython",
    "version": 3
   },
   "file_extension": ".py",
   "mimetype": "text/x-python",
   "name": "python",
   "nbconvert_exporter": "python",
   "pygments_lexer": "ipython3",
   "version": "3.10.9"
  }
 },
 "nbformat": 4,
 "nbformat_minor": 5
}
